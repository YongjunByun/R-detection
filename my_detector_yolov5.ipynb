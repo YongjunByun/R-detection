{
  "nbformat": 4,
  "nbformat_minor": 0,
  "metadata": {
    "colab": {
      "name": "my_detector_test.ipynb",
      "provenance": [],
      "collapsed_sections": [],
      "authorship_tag": "ABX9TyOSh/HoUVTv7zxBwJgLIIxa",
      "include_colab_link": true
    },
    "kernelspec": {
      "name": "python3",
      "display_name": "Python 3"
    },
    "language_info": {
      "name": "python"
    },
    "gpuClass": "standard"
  },
  "cells": [
    {
      "cell_type": "markdown",
      "metadata": {
        "id": "view-in-github",
        "colab_type": "text"
      },
      "source": [
        "<a href=\"https://colab.research.google.com/github/YongjunByun/R-detection/blob/main/my_detector_yolov5.ipynb\" target=\"_parent\"><img src=\"https://colab.research.google.com/assets/colab-badge.svg\" alt=\"Open In Colab\"/></a>"
      ]
    },
    {
      "cell_type": "code",
      "execution_count": null,
      "metadata": {
        "colab": {
          "base_uri": "https://localhost:8080/"
        },
        "id": "xUzRWgo6xJKe",
        "outputId": "b3206684-847c-432b-c3a5-c3152b17a6cc"
      },
      "outputs": [
        {
          "output_type": "stream",
          "name": "stdout",
          "text": [
            "Drive already mounted at /content/drive; to attempt to forcibly remount, call drive.mount(\"/content/drive\", force_remount=True).\n"
          ]
        }
      ],
      "source": [
        "from google.colab import drive\n",
        "drive.mount('/content/drive')"
      ]
    },
    {
      "cell_type": "code",
      "source": [
        "cd \"/content/drive/MyDrive/yolov5\""
      ],
      "metadata": {
        "colab": {
          "base_uri": "https://localhost:8080/"
        },
        "id": "drzkBTHQzRQR",
        "outputId": "b72b6932-3854-4e15-80c0-c2f97107b89e"
      },
      "execution_count": null,
      "outputs": [
        {
          "output_type": "stream",
          "name": "stdout",
          "text": [
            "/content/drive/MyDrive/yolov5\n"
          ]
        }
      ]
    },
    {
      "cell_type": "code",
      "source": [
        "# CPU로 사용할 모델임 (Inference time 확인 필요)\n",
        "import torch\n",
        "import torchvision.transforms as tfs\n",
        "import torch.backends.cudnn as cudnn\n",
        "import torch\n",
        "from models.experimental import attempt_load\n",
        "from models.common import DetectMultiBackend\n",
        "from utils.general import (LOGGER, check_file, check_img_size, check_imshow, check_requirements, colorstr, \n",
        "                           increment_path, non_max_suppression, print_args, scale_coords, strip_optimizer, xyxy2xywh)\n",
        "from utils.torch_utils import select_device, time_sync\n",
        "from utils.dataloaders import LoadImages, letterbox\n",
        "\n",
        "\n",
        "%matplotlib inline\n",
        "import matplotlib.pyplot as plt\n",
        "from IPython.display import Image, clear_output\n",
        "import cv2\n",
        "import numpy as np\n",
        "import copy \n",
        "import time as time_\n",
        "\n",
        "clear_output()\n",
        "print('Setup complete. Using torch %s %s' % (torch.__version__, torch.cuda.get_device_properties(0) if torch.cuda.is_available() else 'CPU'))"
      ],
      "metadata": {
        "colab": {
          "base_uri": "https://localhost:8080/"
        },
        "id": "ot-pXoH4xbSS",
        "outputId": "bdeaa201-7dcb-41cf-b903-3db036cec594"
      },
      "execution_count": null,
      "outputs": [
        {
          "output_type": "stream",
          "name": "stdout",
          "text": [
            "Setup complete. Using torch 1.11.0+cu113 CPU\n"
          ]
        }
      ]
    },
    {
      "cell_type": "code",
      "source": [
        "#load weights\n",
        "#yolov5s 로 학습했음 이미지사이즈=640\n",
        "def load_model(weights, device):\n",
        "    model = attempt_load(weights, device=device)  # load FP32 model\n",
        "    return model\n",
        "\n",
        "weights_path = '/content/drive/MyDrive/yolov5/runs/train/FINAL_WEIGHT/weights/last.pt'\n",
        "device = select_device('cpu')\n",
        "model = load_model(weights_path, device)"
      ],
      "metadata": {
        "colab": {
          "base_uri": "https://localhost:8080/"
        },
        "id": "90P_JO4pzWfj",
        "outputId": "a31464dd-25ef-40c9-bc4b-8da2966da3b1"
      },
      "execution_count": null,
      "outputs": [
        {
          "output_type": "stream",
          "name": "stderr",
          "text": [
            "YOLOv5 🚀 v6.1-269-gf76a78e Python-3.7.13 torch-1.11.0+cu113 CPU\n",
            "\n",
            "Fusing layers... \n",
            "YOLOv5s summary: 213 layers, 7020913 parameters, 0 gradients\n"
          ]
        }
      ]
    },
    {
      "cell_type": "code",
      "source": [
        "def detect_one(model, orgimg, device):\n",
        "    # Load model\n",
        "    img_size = 640\n",
        "    conf_thres = 0.6\n",
        "    iou_thres = 0.6\n",
        "\n",
        "    t0 = time_.time()\n",
        "    # orgimg = cv2.imread(image_path)  # BGR\n",
        "    img0 = copy.deepcopy(orgimg)\n",
        "    assert orgimg is not None, 'Image Not Found '\n",
        "    h0, w0 = orgimg.shape[:2]  # orig hw\n",
        "    r = img_size / max(h0, w0)  # resize image to img_size\n",
        "    if r != 1:  # always resize down, only resize up if training with augmentation\n",
        "        interp = cv2.INTER_AREA if r < 1  else cv2.INTER_LINEAR\n",
        "        img0 = cv2.resize(img0, (int(w0 * r), int(h0 * r)), interpolation=interp)\n",
        "\n",
        "    imgsz = check_img_size(img_size, s=model.stride.max())  # check img_size\n",
        "\n",
        "    img = letterbox(img0, new_shape=imgsz)[0]\n",
        "    # Convert\n",
        "    img = img[:, :, ::-1].transpose(2, 0, 1).copy()  # BGR to RGB, to 3x640x640\n",
        "\n",
        "    img = torch.from_numpy(img).to(device)\n",
        "    img = img.float()  # uint8 to fp16/32\n",
        "    img /= 255.0  # 0 - 255 to 0.0 - 1.0\n",
        "    if img.ndimension() == 3:\n",
        "        img = img.unsqueeze(0)\n",
        "\n",
        "    pred = model(img)[0]\n",
        "\n",
        "    # Apply NMS\n",
        "    pred = non_max_suppression(pred, conf_thres, iou_thres)\n",
        "    t1 = time_.time()\n",
        "    time = t1 - t0\n",
        "    print('img.shape: ', img.shape)\n",
        "    print('orgimg.shape: ', orgimg.shape)\n",
        "    return pred, time\n"
      ],
      "metadata": {
        "id": "Erwm7o0G3_1J"
      },
      "execution_count": null,
      "outputs": []
    },
    {
      "cell_type": "code",
      "source": [
        "image = cv2.imread('-----')"
      ],
      "metadata": {
        "id": "V7NLNCsV3_zL"
      },
      "execution_count": null,
      "outputs": []
    },
    {
      "cell_type": "code",
      "source": [
        "pred, t = detect_one(model, image, device) # BGR\n",
        "print(t)\n",
        "# colab cpu에서 0.15초정도"
      ],
      "metadata": {
        "colab": {
          "base_uri": "https://localhost:8080/"
        },
        "id": "mDDsKyWO3_wn",
        "outputId": "f6573cb0-2aa6-4d59-8ed5-5ceb4d0a2fdd"
      },
      "execution_count": null,
      "outputs": [
        {
          "output_type": "stream",
          "name": "stdout",
          "text": [
            "img.shape:  torch.Size([1, 3, 192, 640])\n",
            "orgimg.shape:  (120, 450, 3)\n",
            "0.1454300880432129\n"
          ]
        }
      ]
    },
    {
      "cell_type": "code",
      "source": [
        "def my_detector(model, image):\n",
        "    pred, t = detect_one(model, image, device) # BGR\n",
        "    ls = []\n",
        "    r_str = []\n",
        "    found_count = len(pred[0])\n",
        "    for i in range(found_count):\n",
        "        x_point = pred[0][i][0]\n",
        "        class_num = pred[0][i][5]\n",
        "        ls.append([x_point, class_num])\n",
        "    ls.sort()\n",
        "    \n",
        "    for i in range(found_count):\n",
        "        if(ls[i][1] == 0):\n",
        "            # r_str.append(\"D\")\n",
        "            print(\"D\")\n",
        "        elif(ls[i][1] == 1):\n",
        "            # r_str.append(\"L\")\n",
        "            print(\"L\")\n",
        "        elif(ls[i][1] == 2):\n",
        "            # r_str.append(\"R\")\n",
        "            print(\"R\")\n",
        "        elif(ls[i][1] == 3):\n",
        "            # r_str.append(\"U\")\n",
        "            print(\"U\")\n",
        "    # r_str = ''.join(rhunstr)    \n",
        "    return r_str\n",
        "my_detector(model, image)"
      ],
      "metadata": {
        "colab": {
          "base_uri": "https://localhost:8080/"
        },
        "id": "dUXOYfhU3_rM",
        "outputId": "d88a0606-c0c6-46e9-a904-70056b3e2839"
      },
      "execution_count": null,

    },
    {
      "cell_type": "code",
      "source": [
        ""
      ],
      "metadata": {
        "id": "LSWWAsXXFIlT"
      },
      "execution_count": null,
      "outputs": []
    }
  ]
}
